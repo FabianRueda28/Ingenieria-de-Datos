{
 "cells": [
  {
   "attachments": {},
   "cell_type": "markdown",
   "metadata": {},
   "source": [
    "# Linux"
   ]
  },
  {
   "attachments": {},
   "cell_type": "markdown",
   "metadata": {},
   "source": [
    "Linux es un sistema operativo open source gratuito que se lanza en virtud de la Licencia Pública General de GNU (GPL). Cualquier persona puede ejecutar, estudiar, modificar o redistribuir el código fuente, e incluso comercializar las copias de su código modificado, siempre y cuando lo haga con la misma licencia."
   ]
  },
  {
   "attachments": {},
   "cell_type": "markdown",
   "metadata": {},
   "source": [
    "# Debian \n",
    "Debian GNU/Linux es un sistema operativo libre, desarrollado por miles de voluntarios de todo el mundo, que colaboran a través de Internet."
   ]
  },
  {
   "attachments": {},
   "cell_type": "markdown",
   "metadata": {},
   "source": [
    "# Kernel \n",
    "El kernel es definido como el núcleo o corazón del sistema operativo, y se encarga principalmente de mediar entre los procesos de usuario y el hardware disponible en la máquina, es decir, concede el acceso al hardware, al software que lo solicite, de una manera segura; y el procesamiento paralelo de varias tareas"
   ]
  },
  {
   "attachments": {},
   "cell_type": "markdown",
   "metadata": {},
   "source": [
    "# Comandos No.1 \n",
    "- clear = para limpiar terminal\n",
    "- exit = para salir de la terminal y cerrarla\n",
    "- su - = para ingresar al root\n",
    "- top = para saber los procesos que se estan llevando a cabo\n",
    "- ls = para saber que documentos hay en la carpeta que estamos parados\n",
    "- ls -l = para listar los directorios\n",
    "- cd = para ingresar a la carpeta que queremos\n",
    "- cd / = para llegar al directorio raiz\n",
    "- cd .. = para retroceder un directorio\n",
    "- mkdir = para crear una carpeta nueva\n",
    "- rmdir = para borrar una carpeta\n",
    "- apt search = para buscar paquete si está disponible para instalar\n",
    "- apt install = para instalar un paquete\n",
    "- htop = para saber que procesos se estan llevando a cabo\n",
    "- man = comando para saber informacion de un comando"
   ]
  },
  {
   "attachments": {},
   "cell_type": "markdown",
   "metadata": {},
   "source": [
    "# Que es un Script? \n",
    "Un script no es más que un archivo que contiene un conjunto de órdenes para realizar una acción."
   ]
  },
  {
   "attachments": {},
   "cell_type": "markdown",
   "metadata": {},
   "source": [
    "# Tipos de usuarios\n",
    "Tipos de usuario en Linux\n",
    "En los sistemas que toman por base la interfaz GNU/Linux o Unix existen dos tipos de usuarios linux: el administrador o root, y los demás usuarios:\n",
    "\n",
    "- Usuario administrador: los usuarios linux root tiene la posibilidad de realizar todo tipo de labores respecto a la administración del sistema. Los cambios o modificaciones realizados con este usuario pueden causar inconvenientes en la seguridad del sistema completo, por lo que debemos tener en cuenta recomendaciones como utilizar este root solo cuando sea estrictamente necesario llevar a cabo una tarea de administración, y cuando terminemos, debemos volver a trabajar con nuestro usuario normal. Además, se sugiere que para acceder al usuario administrador, primero se haya iniciado sesión a través de una cuenta de usuario normal, esta medida previene trabajar con root de manera predeterminada.\n",
    "\n",
    "- Demás usuarios: los otros tipos de usuarios en Linux normales o no administradores, son aquellos que pueden utilizar las herramientas del sistema con normalidad, pero que no pueden ejecutar labores administrativas.\n",
    "\n",
    "Para poder realizar el cambio de usuario normal a usuario root, se necesitarán permisos de administración, y se puede acceder ya sea proporcionando la contraseña del usuario root e iniciando sesión, o establecer una lista de usuarios que pueden tener acceso como administradores. En términos de seguridad, es recomendable optar por la segunda, opción, debido a que compartir la contraseña del usuario root con varias personas, implica el traspaso de información sensible y pone al sistema en una situación de vulnerabilidad."
   ]
  },
  {
   "attachments": {},
   "cell_type": "markdown",
   "metadata": {},
   "source": [
    "# Ficheros \n",
    "La base del sistema de archivos de Linux, es obviamente el archivo, que no es otra cosa que la estructura empleada por el sistema operativo para almacenar información en un dispositivo físico como un disco duro, un disquete, un CD- ROM o un DVD.\n",
    "\n",
    "En Linux y Unix todo es un fichero. Los directorios son ficheros, los ficheros son ficheros, y los dispositivos son ficheros. A veces a los dispositivos se les llama nodos, pero siguen siendo ficheros. Los sistemas de ficheros de Linux y Unix se organizan en una estructura jerárquica, de tipo árbol. \n",
    "\n",
    "¿Cuáles son los tipos de ficheros que se encuentran en Linux?\n",
    "filesystems - Tipos de sistemas de ficheros reconocidos por Linux: minix, ext, ext2, ext3, xia, msdos, umsdos, vfat, proc, nfs, iso9660, hpfs, sysv, smb, ncpfs.\n",
    "\n",
    "tipos de ficheros:\n",
    "- los que empiezan con d = son para los ficheros de tipo directorio. \n",
    "- los ficheros que empiezan con - son ficheros de tipo normal, pueden ser archivos ejecutables. \n",
    "- los que empiezan con c = son para ver que tipo de dispositivo esta utilizando, es de tipo caracter.\n",
    "- los que empiezan con b = son de tipo bloque y puede ser un disco.\n"
   ]
  },
  {
   "attachments": {},
   "cell_type": "markdown",
   "metadata": {},
   "source": [
    "# Metacaracteres \n",
    "¿Qué son los metacaracteres en Linux?\n",
    "En informática, se denomina metacarácter al carácter que tiene un significado especial en el programa informático en el que se use. A diferencia del resto de los caracteres, no tiene un significado literal. Comúnmente se llama metacarácter al carácter específico que actúa como comodín.\n",
    "\n",
    "https://linux.ciberaula.com/articulo/Curso_comandos_en_Linux_II/\n",
    "\n",
    "Comandos:\n",
    "- ls b* = para buscar todos los ficheros que empiecen por la letra b.                                                                              \n",
    "\n",
    "- linux es case sensitive.                                                                      \n",
    "\n",
    "- ls *b = para buscar todos los ficheros que terminen en b.                                     \n",
    "\n",
    "- ls * ma * = para buscar todos los ficheros que tengan las letras dentro de los asteriscos sin importar el orden.                             \n",
    "\n",
    "- ls *m *k * = para traer todos los ficheros que tengan una m y despues una k.                                                                              \n",
    "\n",
    "- ls g? = para todos los ficheros que tengan un letra despues de la g                                                                               \n",
    "\n",
    "- ls g?? = los que tienen dos letras depues de la g y así                    \n",
    "\n",
    "- ls ?p = trae todos los que terminen en p y tengan una letra                                                                           \n",
    "\n",
    "- ls ??p = traer todos los que terminan en p y tienen mas de 2 letras antes\n",
    "\n",
    "- ls [af]* = trae todos los ficheros que empiecen por a o por f. [] = en sql al or, o me trae a o me trae f.\n",
    "\n",
    "- ls *[tb] = trae todos los ficheros que terminen en esas 2 letras dentro de los corchetes, inclusive se pueden meter varias letras, entre 4 y 5.\n",
    "\n",
    "- ls g*[0-9] = para trear los ficheros que empiecen por g y tengan digitos entre 0 y 9. \n",
    "\n",
    "- ls g*[0-9][0-9] = se pueden traer todos los resultados que tengan 2 digitos dentro de los numeros establecidos."
   ]
  },
  {
   "cell_type": "markdown",
   "metadata": {},
   "source": []
  },
  {
   "cell_type": "markdown",
   "metadata": {},
   "source": []
  }
 ],
 "metadata": {
  "kernelspec": {
   "display_name": "Python 3",
   "language": "python",
   "name": "python3"
  },
  "language_info": {
   "name": "python",
   "version": "3.10.5"
  },
  "orig_nbformat": 4,
  "vscode": {
   "interpreter": {
    "hash": "df95319d8ce4e1d89f5365ae10992bc1f65da593082b1d264e8f529830ec2f02"
   }
  }
 },
 "nbformat": 4,
 "nbformat_minor": 2
}
